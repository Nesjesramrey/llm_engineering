{
 "cells": [
  {
   "cell_type": "markdown",
   "id": "d15d8294-3328-4e07-ad16-8a03e9bbfdb9",
   "metadata": {},
   "source": [
    "# TAREA DE EJERCICIO\n",
    "\n",
    "Actualiza el proyecto del día 1 para resumir una página web y utilizar un modelo de código abierto que se ejecute localmente a través de Ollama en lugar de OpenAI\n",
    "\n",
    "Podrás utilizar esta técnica para todos los proyectos posteriores si prefiere no utilizar API de pago (closed source).\n",
    "\n",
    "**Beneficios:**\n",
    "1. Sin cargos por API: código abierto\n",
    "2. Los datos no salen de su ordenador\n",
    "\n",
    "**Desventajas:**\n",
    "1. Tiene mucha menos potencia (parámetros) que el modelo Frontier\n",
    "\n",
    "## Resumen de la instalación de Ollama\n",
    "\n",
    "¡Simplemente visita [ollama.com](https://ollama.com) e instálalo!\n",
    "\n",
    "Una vez que hayas terminado, el servidor ollama ya debería estar ejecutándose localmente.\n",
    "Si entras en:\n",
    "[http://localhost:11434/](http://localhost:11434/)\n",
    "\n",
    "Debería ver el mensaje `Ollama se está ejecutando`.\n",
    "\n",
    "De lo contrario, abre una nueva Terminal (Mac) o Powershell (Windows) e introduce `ollama serve`.\n",
    "Luego, intenta entrar em [http://localhost:11434/](http://localhost:11434/) nuevamente."
   ]
  },
  {
   "cell_type": "code",
   "execution_count": 1,
   "id": "4e2a9393-7767-488e-a8bf-27c12dca35bd",
   "metadata": {},
   "outputs": [],
   "source": [
    "# imports\n",
    "\n",
    "import requests\n",
    "from bs4 import BeautifulSoup\n",
    "from IPython.display import Markdown, display"
   ]
  },
  {
   "cell_type": "code",
   "execution_count": 2,
   "id": "29ddd15d-a3c5-4f4e-a678-873f56162724",
   "metadata": {},
   "outputs": [],
   "source": [
    "# Constantes\n",
    "\n",
    "OLLAMA_API = \"http://localhost:11434/api/chat\"\n",
    "HEADERS = {\"Content-Type\": \"application/json\"}\n",
    "MODEL = \"llama3.2\""
   ]
  },
  {
   "cell_type": "code",
   "execution_count": 3,
   "id": "dac0a679-599c-441f-9bf2-ddc73d35b940",
   "metadata": {},
   "outputs": [],
   "source": [
    "# Crea una lista de mensajes utilizando el mismo formato que usamos para OpenAI\n",
    "\n",
    "messages = [\n",
    "    {\"role\": \"user\", \"content\": \"Describe algunas de las aplicaciones comerciales de la IA generativa.\"}\n",
    "]"
   ]
  },
  {
   "cell_type": "code",
   "execution_count": 4,
   "id": "7bb9c624-14f0-4945-a719-8ddb64f66f47",
   "metadata": {},
   "outputs": [],
   "source": [
    "payload = {\n",
    "        \"model\": MODEL,\n",
    "        \"messages\": messages,\n",
    "        \"stream\": False\n",
    "    }"
   ]
  },
  {
   "cell_type": "code",
   "execution_count": 5,
   "id": "42b9f644-522d-4e05-a691-56e7658c0ea9",
   "metadata": {},
   "outputs": [
    {
     "name": "stdout",
     "output_type": "stream",
     "text": [
      "La Inteligencia Artificial (IA) generativa es un campo en constante evolución que se refiere a la creación automatizada de contenido y productos mediante algoritmos y modelos de aprendizaje automático. A continuación, te presento algunas de las aplicaciones comerciales más destacadas de la IA generativa:\n",
      "\n",
      "1. **Generación de contenido**: La IA generativa puede crear contenido personalizado y relevante para audiencias específicas, como artículos de blog, textos de marketing, imágenes y videos.\n",
      "2. **Diseño de productos**: Los diseñadores pueden utilizar la IA generativa para crear diseños de productos innovadores y atractivos, como ropa, accesorios y objetos decorativos.\n",
      "3. **Creación de personajes y avatares**: La IA generativa puede generar imágenes y modelos 3D de personas y criaturas, lo que se utiliza en la industria del entretenimiento, videojuegos y virtual reality.\n",
      "4. **Edición de fotografías y videos**: Los algoritmos de IA pueden mejorar la edición de fotografías y videos, eliminando defectos y añadiendo efectos visuales creativos.\n",
      "5. **Generación de música y audio**: La IA generativa puede crear música original y sonidos innovadores para películas, videojuegos y aplicaciones de entretenimiento.\n",
      "6. **Creación de modelos de datos**: Los algoritmos de IA pueden generar modelos de datos complejos y precisos, lo que se utiliza en la industria de las finanzas y el análisis de datos.\n",
      "7. **Diseño de interfaces de usuario**: La IA generativa puede crear diseños de interfaces de usuario intuitivos y atractivos para aplicaciones móviles y web.\n",
      "8. **Creación de productos personalizados**: La IA generativa permite la creación de productos personalizados, como joyas, ropa y accesorios, que se ajustan al estilo y preferencias individuales del cliente.\n",
      "9. **Generación de noticias y artículos**: Los algoritmos de IA pueden generar noticias y artículos basados en tendencias y eventos actuales, lo que se utiliza en la industria de los medios de comunicación.\n",
      "10. **Creación de experiencias virtuales**: La IA generativa puede crear experiencias virtuales realistas y interactivas para aplicaciones de realidad aumentada y virtual reality.\n",
      "\n",
      "En resumen, la IA generativa tiene un amplio rango de aplicaciones comerciales que pueden mejorar la eficiencia, la creatividad y la experiencia del cliente en diversas industrias.\n"
     ]
    }
   ],
   "source": [
    "response = requests.post(OLLAMA_API, json=payload, headers=HEADERS)\n",
    "print(response.json()['message']['content'])"
   ]
  },
  {
   "cell_type": "markdown",
   "id": "6a021f13-d6a1-4b96-8e18-4eae49d876fe",
   "metadata": {},
   "source": [
    "# Presentación del paquete ollama\n",
    "\n",
    "Ahora haremos lo mismo, pero utilizando el elegante paquete de Python ollama en lugar de una llamada HTTP directa.\n",
    "\n",
    "En esencia, se realiza la misma llamada que se indicó anteriormente al servidor ollama que se ejecuta en localhost:11434"
   ]
  },
  {
   "cell_type": "code",
   "execution_count": 6,
   "id": "7745b9c4-57dc-4867-9180-61fa5db55eb8",
   "metadata": {},
   "outputs": [
    {
     "name": "stdout",
     "output_type": "stream",
     "text": [
      "La Inteligencia Artificial (IA) generativa se refiere al uso de técnicas de aprendizaje automático para generar contenido y objetos complejos a partir de patrones y estructuras almacenadas en los datos. A continuación, se presentan algunas de las aplicaciones comerciales más destacadas de la IA generativa:\n",
      "\n",
      "1. **Generación de contenido**: La IA generativa puede crear contenido como textos, imágenes, videos y audio para diversas industrias, como publicidad, marketing, entretenimiento y educación.\n",
      "2. **Diseño de productos**: Las herramientas de diseño AI pueden crear prototipos y diseños de productos, reduciendo el tiempo y costos en el proceso de innovación.\n",
      "3. **Generación de música y audio**: La IA generativa puede crear música original y sonidos para películas, videojuegos y anuncios.\n",
      "4. **Creación de artículos de diseño**: Las herramientas de diseño AI pueden crear artículos de diseño, como planos de trabajo y presentaciones, en minutos.\n",
      "5. **Generación de imágenes**: La IA generativa puede crear imágenes realistas de objetos y escenas, lo que se utiliza en la publicidad, el marketing y la industria del entretenimiento.\n",
      "6. **Análisis de redes sociales**: Las herramientas de análisis de redes sociales pueden utilizar la IA generativa para analizar datos y generar informes precisos sobre las tendencias y comportamientos de los usuarios.\n",
      "7. **Creación de experiencias de realidad virtual (RV) y aumentada (RAV)**: La IA generativa se utiliza en la creación de entornos virtuales y objetos 3D para experiencias de RV y RAV.\n",
      "8. **Generación de recomendaciones**: Las herramientas de análisis de datos pueden utilizar la IA generativa para generar recomendaciones personalizadas para los clientes.\n",
      "9. **Creación de scripts y guiones**: La IA generativa puede crear scripts y guiones para películas, televisión y videojuegos.\n",
      "10. **Optimización de procesos**: Las herramientas de IA generativa pueden analizar datos y generar optimizaciones para procesos empresariales, como la logística y la gestión de inventario.\n",
      "\n",
      "Algunas de las empresas más destacadas que están utilizando la IA generativa en sus aplicaciones comerciales son:\n",
      "\n",
      "* Google (DeepMind)\n",
      "* Microsoft (Azure Machine Learning)\n",
      "* Facebook (FAIR)\n",
      "* Amazon (SageMaker)\n",
      "* Netflix (Neural Network Analysis)\n",
      "\n",
      "En resumen, la IA generativa ofrece una amplia gama de aplicaciones comerciales que pueden mejorar la eficiencia, la creatividad y la precisión en diversas industrias.\n"
     ]
    }
   ],
   "source": [
    "import ollama\n",
    "\n",
    "response = ollama.chat(model=MODEL, messages=messages)\n",
    "print(response['message']['content'])"
   ]
  },
  {
   "cell_type": "code",
   "execution_count": null,
   "id": "9a611b05-b5b0-4c83-b82d-b3a39ffb917d",
   "metadata": {},
   "outputs": [],
   "source": []
  },
  {
   "cell_type": "markdown",
   "id": "1622d9bb-5c68-4d4e-9ca4-b492c751f898",
   "metadata": {},
   "source": [
    "# AHORA el ejercicio para ti\n",
    "\n",
    "Toma el código del día 1 e incorpóralo aquí para crear un resumidor de sitios web que use Llama 3.2 ejecutándose localmente en lugar de OpenAI"
   ]
  },
  {
   "cell_type": "code",
   "execution_count": null,
   "id": "4a3d6881-35af-469e-a8ff-a8b62b721d95",
   "metadata": {},
   "outputs": [],
   "source": []
  }
 ],
 "metadata": {
  "kernelspec": {
   "display_name": "Python 3 (ipykernel)",
   "language": "python",
   "name": "python3"
  },
  "language_info": {
   "codemirror_mode": {
    "name": "ipython",
    "version": 3
   },
   "file_extension": ".py",
   "mimetype": "text/x-python",
   "name": "python",
   "nbconvert_exporter": "python",
   "pygments_lexer": "ipython3",
   "version": "3.11.11"
  }
 },
 "nbformat": 4,
 "nbformat_minor": 5
}
